{
 "cells": [
  {
   "cell_type": "code",
   "execution_count": 2,
   "metadata": {},
   "outputs": [],
   "source": [
    "import time\n",
    "import numpy as np\n",
    "import sounddevice as sd\n",
    "import matplotlib.pyplot as plt \n",
    "import wavio\n",
    "import scipy.io.wavfile"
   ]
  },
  {
   "cell_type": "code",
   "execution_count": 3,
   "metadata": {},
   "outputs": [],
   "source": [
    "RATE = 48000\n",
    "duration = 0.3\n",
    "frequency = 220.0\n",
    "fm = 0.25"
   ]
  },
  {
   "cell_type": "code",
   "execution_count": 4,
   "metadata": {},
   "outputs": [],
   "source": [
    "x = np.linspace(0, 2 * duration * np.pi, int(RATE * duration))\n"
   ]
  },
  {
   "cell_type": "code",
   "execution_count": 5,
   "metadata": {},
   "outputs": [],
   "source": [
    "fade_amount = 8000\n",
    "detune = 5.0\n",
    "\n",
    "fade = np.linspace(1, 0, fade_amount)"
   ]
  },
  {
   "cell_type": "code",
   "execution_count": 6,
   "metadata": {},
   "outputs": [],
   "source": [
    "def sine_wave(f, detune=0.0):\n",
    "    y = np.sin((f + detune) * x + ramp *\n",
    "            np.sin(((f + detune) * 0.5) * x + (\n",
    "                np.sin(((f + detune) * fm) * x) * 0.5)))\n",
    "    \n",
    "    return y\n"
   ]
  },
  {
   "cell_type": "code",
   "execution_count": 7,
   "metadata": {},
   "outputs": [],
   "source": [
    "scale_ramp = []\n",
    "index = 0\n",
    "while index <= 200:\n",
    "    scale_ramp.append(index / 100)\n",
    "    index += 1\n",
    "    "
   ]
  },
  {
   "cell_type": "code",
   "execution_count": 8,
   "metadata": {},
   "outputs": [],
   "source": [
    "scale_roll = []\n",
    "index = 0\n",
    "while index <= 4000:\n",
    "    scale_roll.append(index)\n",
    "    index += 50"
   ]
  },
  {
   "cell_type": "code",
   "execution_count": 9,
   "metadata": {},
   "outputs": [
    {
     "data": {
      "text/plain": [
       "81"
      ]
     },
     "execution_count": 9,
     "metadata": {},
     "output_type": "execute_result"
    }
   ],
   "source": [
    "len(scale_roll)"
   ]
  },
  {
   "cell_type": "code",
   "execution_count": 10,
   "metadata": {},
   "outputs": [],
   "source": [
    "waves = []\n"
   ]
  },
  {
   "cell_type": "code",
   "execution_count": 29,
   "metadata": {},
   "outputs": [],
   "source": [
    "for ramp_amount in scale_ramp:\n",
    "    ramp = np.logspace(1, 0, np.size(x), base=10) * ramp_amount\n",
    "    \n",
    "    waveform_mod = sine_wave(frequency)\n",
    "    waveform = sine_wave(frequency)\n",
    "    waveform_detune = sine_wave(frequency, detune)\n",
    "    \n",
    "    waveform = ((waveform + waveform_detune) * \n",
    "                (waveform_mod / 2 + 0.5)) * 0.1\n",
    "    \n",
    "    waveform[-fade_amount:] *= fade\n",
    "    waveform = np.int16(waveform * 32767)\n",
    "    waveform2 = np.roll(waveform, 10, axis=None)\n",
    "    waveform3 = np.vstack((waveform2, waveform)).T\n",
    "    waves.append(waveform3.copy(order='C'))"
   ]
  },
  {
   "cell_type": "code",
   "execution_count": 30,
   "metadata": {},
   "outputs": [],
   "source": [
    "wave1 = waves[0]"
   ]
  },
  {
   "cell_type": "code",
   "execution_count": 31,
   "metadata": {},
   "outputs": [],
   "source": [
    "total_wave = wave1\n",
    "for w in waves:\n",
    "    total_wave = np.concatenate((total_wave, w))\n",
    "    "
   ]
  },
  {
   "cell_type": "code",
   "execution_count": 32,
   "metadata": {},
   "outputs": [
    {
     "data": {
      "text/plain": [
       "120.9"
      ]
     },
     "execution_count": 32,
     "metadata": {},
     "output_type": "execute_result"
    }
   ],
   "source": [
    "len(total_wave) / RATE"
   ]
  },
  {
   "cell_type": "code",
   "execution_count": 33,
   "metadata": {},
   "outputs": [],
   "source": [
    "attenuated = total_wave * 0.3"
   ]
  },
  {
   "cell_type": "code",
   "execution_count": 34,
   "metadata": {},
   "outputs": [],
   "source": [
    "try:\n",
    "    sd.play(attenuated, RATE)\n",
    "\n",
    "except KeyboardInterrupt:\n",
    "    sd.stop()"
   ]
  },
  {
   "cell_type": "code",
   "execution_count": 35,
   "metadata": {},
   "outputs": [
    {
     "name": "stdout",
     "output_type": "stream",
     "text": [
      "Using matplotlib backend: TkAgg\n"
     ]
    }
   ],
   "source": [
    "sd.stop()\n",
    "%matplotlib "
   ]
  },
  {
   "cell_type": "code",
   "execution_count": 42,
   "metadata": {},
   "outputs": [],
   "source": [
    "fix, ax = plt.subplots()\n",
    "ax.plot(attenuated[:-RATE*60], linewidth=1.5)\n",
    "plt.show()"
   ]
  },
  {
   "cell_type": "code",
   "execution_count": null,
   "metadata": {},
   "outputs": [],
   "source": []
  }
 ],
 "metadata": {
  "kernelspec": {
   "display_name": "Python 3",
   "language": "python",
   "name": "python3"
  },
  "language_info": {
   "codemirror_mode": {
    "name": "ipython",
    "version": 3
   },
   "file_extension": ".py",
   "mimetype": "text/x-python",
   "name": "python",
   "nbconvert_exporter": "python",
   "pygments_lexer": "ipython3",
   "version": "3.8.2"
  }
 },
 "nbformat": 4,
 "nbformat_minor": 4
}
